{
 "cells": [
  {
   "cell_type": "code",
   "execution_count": 1,
   "id": "8a25f317",
   "metadata": {},
   "outputs": [],
   "source": [
    "import pandas as pd\n",
    "from sklearn.model_selection import train_test_split\n",
    "from sklearn.ensemble import RandomForestRegressor\n",
    "from sklearn.ensemble import RandomForestClassifier"
   ]
  },
  {
   "cell_type": "code",
   "execution_count": 2,
   "id": "dbc4031e",
   "metadata": {},
   "outputs": [],
   "source": [
    "#The next step is to load the dataset and split it into a test and training set.\n",
    "\n",
    "# Load the dataset\n",
    "data = pd.read_csv('prep.csv')\n",
    "\n",
    "# Separate the features and target variable\n",
    "X = data.drop('classification', axis=1)\n",
    "y = data['classification']\n",
    "\n",
    "X_train, X_test, y_train, y_test = train_test_split(X, y, test_size=0.25, random_state=42)"
   ]
  },
  {
   "cell_type": "code",
   "execution_count": 3,
   "id": "b8fb93f7",
   "metadata": {},
   "outputs": [],
   "source": [
    "# Perform one-hot encoding on categorical features\n",
    "X_encoded = pd.get_dummies(X)\n",
    "\n",
    "# Create a Random Forest Classifier\n",
    "rf_classifier = RandomForestClassifier()\n",
    "\n",
    "# Fit the classifier to the encoded data\n",
    "rf_classifier.fit(X_encoded, y)\n",
    "\n",
    "# Get the feature importances\n",
    "feature_importances = rf_classifier.feature_importances_\n"
   ]
  },
  {
   "cell_type": "code",
   "execution_count": 4,
   "id": "0fd38d6f",
   "metadata": {},
   "outputs": [],
   "source": [
    "# Create a dataframe to display the feature importances\n",
    "feature_importances_df = pd.DataFrame({'Feature': X_encoded.columns, 'Importance': feature_importances})\n",
    "feature_importances_df = feature_importances_df.sort_values('Importance', ascending=False)\n"
   ]
  },
  {
   "cell_type": "code",
   "execution_count": 5,
   "id": "a255c1af",
   "metadata": {},
   "outputs": [
    {
     "name": "stdout",
     "output_type": "stream",
     "text": [
      "           Feature  Importance\n",
      "9             hrmo    0.211611\n",
      "10             pcv    0.167588\n",
      "6               sc    0.144968\n",
      "12              rc    0.088867\n",
      "2               al    0.057384\n",
      "4              bgr    0.047236\n",
      "26          htn_no    0.037857\n",
      "27         htn_yes    0.034425\n",
      "29          dm_yes    0.031989\n",
      "28           dm_no    0.024351\n",
      "7              sod    0.021441\n",
      "16            sg_d    0.018232\n",
      "5               bu    0.016487\n",
      "1               bp    0.012817\n",
      "14            sg_b    0.009978\n",
      "15            sg_c    0.008730\n",
      "0              age    0.008352\n",
      "8              pot    0.007431\n",
      "11              wc    0.007391\n",
      "3               su    0.007002\n",
      "32      appet_poor    0.006352\n",
      "21       pc_normal    0.005205\n",
      "33       appet_yes    0.004623\n",
      "35          pe_yes    0.003703\n",
      "13            sg_a    0.003507\n",
      "20     pc_abnormal    0.003375\n",
      "37         ane_yes    0.003295\n",
      "18    rbc_abnormal    0.001772\n",
      "34         pe_poor    0.001560\n",
      "19      rbc_normal    0.001004\n",
      "36          ane_no    0.000762\n",
      "22  pcc_notpresent    0.000264\n",
      "25      ba_present    0.000190\n",
      "24   ba_notpresent    0.000188\n",
      "23     pcc_present    0.000053\n",
      "30          cad_no    0.000011\n",
      "31         cad_yes    0.000000\n",
      "17            sg_e    0.000000\n"
     ]
    }
   ],
   "source": [
    "# Display the feature importances\n",
    "print(feature_importances_df)"
   ]
  }
 ],
 "metadata": {
  "kernelspec": {
   "display_name": "Python 3 (ipykernel)",
   "language": "python",
   "name": "python3"
  },
  "language_info": {
   "codemirror_mode": {
    "name": "ipython",
    "version": 3
   },
   "file_extension": ".py",
   "mimetype": "text/x-python",
   "name": "python",
   "nbconvert_exporter": "python",
   "pygments_lexer": "ipython3",
   "version": "3.7.6"
  }
 },
 "nbformat": 4,
 "nbformat_minor": 5
}
